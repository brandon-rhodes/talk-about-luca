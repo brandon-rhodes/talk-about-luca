{
 "cells": [
  {
   "cell_type": "code",
   "execution_count": null,
   "metadata": {
    "collapsed": false
   },
   "outputs": [],
   "source": [
    "# from __future__ import division\n",
    "%pylab inline\n",
    "%load_ext autoreload\n",
    "%autoreload 2\n",
    "import numpy as np\n",
    "import pandas as pd\n",
    "import seaborn as sb\n",
    "pd.options.display.max_colwidth = 128\n",
    "pylab.rcParams['figure.figsize'] = 12, 7"
   ]
  },
  {
   "cell_type": "code",
   "execution_count": null,
   "metadata": {
    "collapsed": false
   },
   "outputs": [],
   "source": [
    "from re import search"
   ]
  },
  {
   "cell_type": "code",
   "execution_count": null,
   "metadata": {
    "collapsed": false,
    "slideshow": {
     "slide_type": "slide"
    }
   },
   "outputs": [],
   "source": [
    "%config "
   ]
  },
  {
   "cell_type": "code",
   "execution_count": null,
   "metadata": {
    "collapsed": false,
    "slideshow": {
     "slide_type": "slide"
    }
   },
   "outputs": [],
   "source": [
    "import IPython.core.formatters"
   ]
  },
  {
   "cell_type": "code",
   "execution_count": null,
   "metadata": {
    "collapsed": false,
    "slideshow": {
     "slide_type": "slide"
    }
   },
   "outputs": [],
   "source": [
    "IPython.core.formatters"
   ]
  },
  {
   "cell_type": "code",
   "execution_count": null,
   "metadata": {
    "collapsed": false,
    "slideshow": {
     "slide_type": "slide"
    }
   },
   "outputs": [],
   "source": [
    "%config DisplayFormatter"
   ]
  },
  {
   "cell_type": "code",
   "execution_count": null,
   "metadata": {
    "collapsed": true,
    "slideshow": {
     "slide_type": "slide"
    }
   },
   "outputs": [],
   "source": [
    "#%config PlainTextFormatter.pprint = False"
   ]
  },
  {
   "cell_type": "code",
   "execution_count": null,
   "metadata": {
    "collapsed": true
   },
   "outputs": [],
   "source": [
    "from functools import partial\n",
    "\n",
    "def test(categorizer, **kw):\n",
    "    categorize = partial(categorizer, **kw)\n",
    "    assert categorize('Delta Airlines') == 'Airfare'\n",
    "    assert categorize('Delta Faucet') == 'Plumbing'\n",
    "    assert categorize('Comfort Inn') == 'Lodging'\n",
    "    assert categorize('Drake Hotel') == 'Lodging'\n",
    "    assert categorize('Sushi Avenue') == 'Restaurant'\n",
    "    print 'Tests passed'"
   ]
  },
  {
   "cell_type": "code",
   "execution_count": null,
   "metadata": {
    "collapsed": false
   },
   "outputs": [],
   "source": [
    "def categorize(text):\n",
    "    if search('Delta', text):\n",
    "        return 'Airfare'\n",
    "    if search('Hotel', text):\n",
    "        return 'Lodging'\n",
    "    if search('Inn', text):\n",
    "        return 'Lodging'\n",
    "    if search('.', text):\n",
    "        return 'Restaurant'\n",
    "    return None\n",
    "\n",
    "print categorize('Comfort Inn')\n",
    "print categorize('Sushi Avenue')"
   ]
  },
  {
   "cell_type": "code",
   "execution_count": null,
   "metadata": {
    "collapsed": false,
    "slideshow": {
     "slide_type": "slide"
    }
   },
   "outputs": [],
   "source": [
    "import yaml"
   ]
  },
  {
   "cell_type": "code",
   "execution_count": null,
   "metadata": {
    "collapsed": true,
    "slideshow": {
     "slide_type": "slide"
    }
   },
   "outputs": [],
   "source": [
    "rule_text = \"\"\"\\\n",
    "- /Delta/:\n",
    "  - /Faucet/:\n",
    "    - Plumbing\n",
    "  - Airfare\n",
    "- Lodging:\n",
    "  - /Hotel/\n",
    "  - /Inn/\n",
    "- //:\n",
    "  - Restaurant\n",
    "\"\"\""
   ]
  },
  {
   "cell_type": "code",
   "execution_count": null,
   "metadata": {
    "collapsed": false,
    "slideshow": {
     "slide_type": "slide"
    }
   },
   "outputs": [],
   "source": [
    "rules = yaml.load(rule_text)\n",
    "rules"
   ]
  },
  {
   "cell_type": "code",
   "execution_count": null,
   "metadata": {
    "collapsed": false
   },
   "outputs": [],
   "source": [
    "def categorize(text):\n",
    "    if search('Delta', text):\n",
    "        return 'Airfare'\n",
    "    if search('Hotel', text):\n",
    "        return 'Lodging'\n",
    "    if search('Inn', text):\n",
    "        return 'Lodging'\n",
    "    if search('.', text):\n",
    "        return 'Restaurant'\n",
    "    return 'Unknown'\n",
    "\n",
    "print categorize('Comfort Inn')\n",
    "print categorize('Sushi Avenue')"
   ]
  },
  {
   "cell_type": "markdown",
   "metadata": {
    "slideshow": {
     "slide_type": "slide"
    }
   },
   "source": [
    "# Iteration 1: Interpreter"
   ]
  },
  {
   "cell_type": "markdown",
   "metadata": {},
   "source": [
    "```\n",
    "- /Delta/:\n",
    "  - /Faucet/:\n",
    "    - Plumbing\n",
    "  - Airfare\n",
    "- Lodging:\n",
    "  - /Hotel/\n",
    "  - /Inn/\n",
    "- //:\n",
    "  - Restaurant\n",
    "```"
   ]
  },
  {
   "cell_type": "code",
   "execution_count": null,
   "metadata": {
    "collapsed": false,
    "slideshow": {
     "slide_type": "slide"
    }
   },
   "outputs": [],
   "source": [
    "def categorize1(text, rules, category=None):\n",
    "    for rule in rules:\n",
    "        subrules = None\n",
    "        if isinstance(rule, dict):\n",
    "            rule, subrules = next(rule.iteritems())\n",
    "        if rule.startswith('/'):\n",
    "            if not search(rule[1:-1], text):\n",
    "                continue\n",
    "        else:\n",
    "            category = rule\n",
    "        if subrules:\n",
    "            category = categorize1(text, subrules, category)\n",
    "        if category is not None:\n",
    "            return category\n",
    "\n",
    "print categorize1('Comfort Inn', rules)\n",
    "test(categorize1, rules=rules)"
   ]
  },
  {
   "cell_type": "markdown",
   "metadata": {
    "slideshow": {
     "slide_type": "slide"
    }
   },
   "source": [
    "# Iteration 2: Compiler"
   ]
  },
  {
   "cell_type": "code",
   "execution_count": null,
   "metadata": {
    "collapsed": false,
    "slideshow": {
     "slide_type": "slide"
    }
   },
   "outputs": [],
   "source": [
    "import ast\n",
    "\n",
    "tree = ast.parse('2 + 3 * 4')\n",
    "tree"
   ]
  },
  {
   "cell_type": "code",
   "execution_count": null,
   "metadata": {
    "collapsed": false,
    "slideshow": {
     "slide_type": "slide"
    }
   },
   "outputs": [],
   "source": [
    "# 2 + 3 * 4\n",
    "# https://docs.python.org/2/library/ast.html#abstract-grammar\n",
    "\n",
    "tree.body[0]"
   ]
  },
  {
   "cell_type": "code",
   "execution_count": null,
   "metadata": {
    "collapsed": false,
    "slideshow": {
     "slide_type": "slide"
    }
   },
   "outputs": [],
   "source": [
    "print ast.dump(tree)"
   ]
  },
  {
   "cell_type": "code",
   "execution_count": null,
   "metadata": {
    "collapsed": false,
    "slideshow": {
     "slide_type": "slide"
    }
   },
   "outputs": [],
   "source": [
    "import astunparse\n",
    "print astunparse.dump(tree)"
   ]
  },
  {
   "cell_type": "code",
   "execution_count": null,
   "metadata": {
    "collapsed": false,
    "slideshow": {
     "slide_type": "slide"
    }
   },
   "outputs": [],
   "source": [
    "import astunparse\n",
    "print astunparse.dump(ast.parse(\"\"\"\n",
    "    \n",
    "    \"\"\"))"
   ]
  },
  {
   "cell_type": "code",
   "execution_count": null,
   "metadata": {
    "collapsed": false,
    "slideshow": {
     "slide_type": "slide"
    }
   },
   "outputs": [],
   "source": [
    "import astunparse\n",
    "print astunparse.dump(ast.parse(\"\"\"\n",
    "if content == 1:\n",
    "    return 'foo'\n",
    "\"\"\"))"
   ]
  },
  {
   "cell_type": "code",
   "execution_count": null,
   "metadata": {
    "collapsed": false
   },
   "outputs": [],
   "source": [
    "from ast import (AST, If, Name, Return, Str, Param, FunctionDef, Interactive,\n",
    "                 arguments, fix_missing_locations, parse, Num, Expression, Add, BinOp, Mult, Pow, Load, Expr,\n",
    "                Module, Assign)\n",
    "from ast import *\n",
    "\n",
    "\n",
    "tree = Expression(Num(n=42))\n",
    "fixed = fix_missing_locations(tree)\n",
    "code = compile(tree, '<luca>', 'eval')\n",
    "eval(code)"
   ]
  },
  {
   "cell_type": "code",
   "execution_count": null,
   "metadata": {
    "collapsed": false
   },
   "outputs": [],
   "source": [
    "tree = Expression(BinOp(Num(n=42), Add(), Name(id='n', ctx=Load())))\n",
    "fixed = fix_missing_locations(tree)\n",
    "code = compile(tree, '<luca>', 'eval')\n",
    "eval(code, {}, {'n': 1})"
   ]
  },
  {
   "cell_type": "code",
   "execution_count": null,
   "metadata": {
    "collapsed": false
   },
   "outputs": [],
   "source": [
    "tree = Interactive([\n",
    "    Assign([Name(id='m', ctx=Store())], Num(n=2)),\n",
    "    Expr(BinOp(Num(n=42), Add(), Name(id='m', ctx=Load())))\n",
    "    ])\n",
    "fixed = fix_missing_locations(tree)\n",
    "code = compile(tree, '<luca>', 'single')\n",
    "eval(code, {}, {'n': 1})"
   ]
  },
  {
   "cell_type": "code",
   "execution_count": null,
   "metadata": {
    "collapsed": false
   },
   "outputs": [],
   "source": [
    "from dis import dis\n",
    "dis(code)"
   ]
  },
  {
   "cell_type": "code",
   "execution_count": null,
   "metadata": {
    "collapsed": false
   },
   "outputs": [],
   "source": []
  },
  {
   "cell_type": "markdown",
   "metadata": {},
   "source": [
    "```\n",
    "- /Delta/:\n",
    "  - /Faucet/:\n",
    "    - Plumbing\n",
    "  - Airfare\n",
    "- Lodging:\n",
    "  - /Hotel/\n",
    "  - /Inn/\n",
    "- //:\n",
    "  - Restaurant\n",
    "```"
   ]
  },
  {
   "cell_type": "code",
   "execution_count": null,
   "metadata": {
    "collapsed": true
   },
   "outputs": [],
   "source": [
    "def compile_test(rule):\n",
    "    if rule.startswith('/'):\n",
    "        pattern = Str(rule[1:-1])\n",
    "        text = Name(id='text', ctx=Load())\n",
    "        return Compare(pattern, [In()], [text])\n",
    "    else:\n",
    "        return Str(rule)"
   ]
  },
  {
   "cell_type": "code",
   "execution_count": null,
   "metadata": {
    "collapsed": false
   },
   "outputs": [],
   "source": [
    "def compile_rules(rules, category=''):\n",
    "    return BoolOp(Or(), [compile_rule(r, category) for r in rules])\n",
    "\n",
    "def compile_rule(rule, category):\n",
    "    if isinstance(rule, dict):\n",
    "        rule, subrules = next(rule.iteritems())\n",
    "        if rule.startswith('/'):\n",
    "            return BoolOp(And(), [compile_test(rule), compile_rules(subrules, category)])\n",
    "        return compile_rules(subrules, rule)\n",
    "    elif rule.startswith('/'):\n",
    "        return BoolOp(And(), [compile_test(rule), Str(category)])\n",
    "    return Str(rule)"
   ]
  },
  {
   "cell_type": "code",
   "execution_count": null,
   "metadata": {
    "collapsed": false
   },
   "outputs": [],
   "source": [
    "tree = compile_rules(rules)\n",
    "fixed = fix_missing_locations(tree)\n",
    "code = compile(Expression(tree), '<luca>', 'eval')\n",
    "categorize2 = lambda text: eval(code, None, {'text': text})\n",
    "\n",
    "print categorize2('Comfort Inn')\n",
    "print categorize2('Delta Airlines')\n",
    "test(categorize2)"
   ]
  },
  {
   "cell_type": "code",
   "execution_count": null,
   "metadata": {
    "collapsed": false
   },
   "outputs": [],
   "source": [
    "dis(code)"
   ]
  },
  {
   "cell_type": "code",
   "execution_count": null,
   "metadata": {
    "collapsed": false
   },
   "outputs": [],
   "source": [
    "%timeit categorize1('Sushi Avenue', rules)\n",
    "%timeit categorize2('Sushi Avenue')"
   ]
  },
  {
   "cell_type": "markdown",
   "metadata": {},
   "source": [
    "# Iteration 3: Pandas"
   ]
  },
  {
   "cell_type": "code",
   "execution_count": null,
   "metadata": {
    "collapsed": false
   },
   "outputs": [],
   "source": [
    "# NumPy\n",
    "\n",
    "x = arange(8)\n",
    "print x\n",
    "print x + 1\n",
    "print x * 10\n",
    "print x * x"
   ]
  },
  {
   "cell_type": "code",
   "execution_count": null,
   "metadata": {
    "collapsed": false
   },
   "outputs": [],
   "source": [
    "print sin(x)"
   ]
  },
  {
   "cell_type": "code",
   "execution_count": null,
   "metadata": {
    "collapsed": false
   },
   "outputs": [],
   "source": [
    "#x = linspace(0, 10, 1000)\n",
    "plot(x, sin(x) - x / 2.0)"
   ]
  },
  {
   "cell_type": "code",
   "execution_count": null,
   "metadata": {
    "collapsed": false
   },
   "outputs": [],
   "source": [
    "# Pandas\n",
    "\n",
    "df = pd.read_csv('transactions.txt', parse_dates=['Date'])\n",
    "df.head()"
   ]
  },
  {
   "cell_type": "code",
   "execution_count": null,
   "metadata": {
    "collapsed": false
   },
   "outputs": [],
   "source": [
    "-df.Amount > 500"
   ]
  },
  {
   "cell_type": "code",
   "execution_count": null,
   "metadata": {
    "collapsed": false
   },
   "outputs": [],
   "source": [
    "df.head()"
   ]
  },
  {
   "cell_type": "code",
   "execution_count": null,
   "metadata": {
    "collapsed": false
   },
   "outputs": [],
   "source": [
    "c = df.assign(Category=None)\n",
    "c.head()"
   ]
  },
  {
   "cell_type": "code",
   "execution_count": null,
   "metadata": {
    "collapsed": false
   },
   "outputs": [],
   "source": [
    "match = c.Description.str.contains('Delta')\n",
    "c.Category = c.Category[match].fillna('Airfare')\n",
    "c.head()"
   ]
  },
  {
   "cell_type": "code",
   "execution_count": null,
   "metadata": {
    "collapsed": false
   },
   "outputs": [],
   "source": [
    "mask = c.Description.str.contains('Inn')\n",
    "c.Category.mask(mask, 'Lodging')\n",
    "#c.Category = c.Category[match].fillna('Lodging')\n",
    "#c.head()"
   ]
  },
  {
   "cell_type": "code",
   "execution_count": null,
   "metadata": {
    "collapsed": false
   },
   "outputs": [],
   "source": [
    "cc = c.Description.copy()\n",
    "cc[:] = None\n",
    "cc.fillna(7)"
   ]
  },
  {
   "cell_type": "code",
   "execution_count": null,
   "metadata": {
    "collapsed": true
   },
   "outputs": [],
   "source": []
  },
  {
   "cell_type": "code",
   "execution_count": null,
   "metadata": {
    "collapsed": true
   },
   "outputs": [],
   "source": []
  },
  {
   "cell_type": "code",
   "execution_count": null,
   "metadata": {
    "collapsed": true
   },
   "outputs": [],
   "source": []
  },
  {
   "cell_type": "code",
   "execution_count": null,
   "metadata": {
    "collapsed": false
   },
   "outputs": [],
   "source": [
    "def categorize3(descriptions, rules, category=''):\n",
    "    cats = descriptions.copy()\n",
    "    cats[:] = None\n",
    "    for rule in rules:\n",
    "        cats = cats.fillna(run_rule(descriptions, rule, category))\n",
    "    return cats\n",
    "\n",
    "def run_rule(descriptions, rule, category):\n",
    "    if isinstance(rule, dict):\n",
    "        rule, subrules = next(rule.iteritems())\n",
    "        if rule.startswith('/'):\n",
    "            mask = descriptions.str.contains(rule[1:-1])\n",
    "            cats = categorize3(descriptions, subrules, category)\n",
    "            return cats.where(mask, None)\n",
    "        else:\n",
    "            return categorize3(descriptions, subrules, rule)\n",
    "    elif rule.startswith('/'):\n",
    "        mask = descriptions.str.contains(rule[1:-1])\n",
    "        cats = descriptions.copy()\n",
    "        cats[:] = category\n",
    "        return cats.where(mask, None)\n",
    "    return rule\n",
    "\n",
    "print categorize3(df.Description, rules)\n",
    "#test(categorize1, rules=rules)"
   ]
  },
  {
   "cell_type": "code",
   "execution_count": null,
   "metadata": {
    "collapsed": false
   },
   "outputs": [],
   "source": [
    "c1 = [categorize1(text, rules) for text in df.Description]\n",
    "c2 = [categorize2(text) for text in df.Description]\n",
    "c3 = categorize3(df.Description, rules)\n",
    "assert c1 == c2\n",
    "assert (c1 == c3).all()"
   ]
  },
  {
   "cell_type": "code",
   "execution_count": null,
   "metadata": {
    "collapsed": false
   },
   "outputs": [],
   "source": [
    "%time c1 = [categorize1(text, rules) for text in df.Description]\n",
    "%time c2 = [categorize2(text) for text in df.Description]\n",
    "%time c3 = categorize3(df.Description, rules)"
   ]
  },
  {
   "cell_type": "code",
   "execution_count": null,
   "metadata": {
    "collapsed": false
   },
   "outputs": [],
   "source": [
    "bigdf = pd.concat([df] * 100000)\n",
    "bigdf.size"
   ]
  },
  {
   "cell_type": "code",
   "execution_count": null,
   "metadata": {
    "collapsed": false
   },
   "outputs": [],
   "source": [
    "%time c1 = [categorize1(text, rules) for text in bigdf.Description]\n",
    "%time c2 = [categorize2(text) for text in bigdf.Description]\n",
    "%time c3 = categorize3(bigdf.Description, rules)"
   ]
  },
  {
   "cell_type": "code",
   "execution_count": null,
   "metadata": {
    "collapsed": true
   },
   "outputs": [],
   "source": []
  },
  {
   "cell_type": "code",
   "execution_count": null,
   "metadata": {
    "collapsed": true
   },
   "outputs": [],
   "source": []
  },
  {
   "cell_type": "code",
   "execution_count": null,
   "metadata": {
    "collapsed": true
   },
   "outputs": [],
   "source": []
  },
  {
   "cell_type": "code",
   "execution_count": null,
   "metadata": {
    "collapsed": true
   },
   "outputs": [],
   "source": []
  },
  {
   "cell_type": "code",
   "execution_count": null,
   "metadata": {
    "collapsed": true
   },
   "outputs": [],
   "source": []
  },
  {
   "cell_type": "code",
   "execution_count": null,
   "metadata": {
    "collapsed": true
   },
   "outputs": [],
   "source": []
  },
  {
   "cell_type": "code",
   "execution_count": null,
   "metadata": {
    "collapsed": true
   },
   "outputs": [],
   "source": []
  },
  {
   "cell_type": "code",
   "execution_count": null,
   "metadata": {
    "collapsed": true
   },
   "outputs": [],
   "source": []
  },
  {
   "cell_type": "code",
   "execution_count": null,
   "metadata": {
    "collapsed": true
   },
   "outputs": [],
   "source": []
  },
  {
   "cell_type": "code",
   "execution_count": null,
   "metadata": {
    "collapsed": true
   },
   "outputs": [],
   "source": []
  },
  {
   "cell_type": "code",
   "execution_count": null,
   "metadata": {
    "collapsed": true
   },
   "outputs": [],
   "source": []
  },
  {
   "cell_type": "code",
   "execution_count": null,
   "metadata": {
    "collapsed": true
   },
   "outputs": [],
   "source": []
  },
  {
   "cell_type": "code",
   "execution_count": null,
   "metadata": {
    "collapsed": true
   },
   "outputs": [],
   "source": []
  },
  {
   "cell_type": "code",
   "execution_count": null,
   "metadata": {
    "collapsed": true
   },
   "outputs": [],
   "source": []
  },
  {
   "cell_type": "code",
   "execution_count": null,
   "metadata": {
    "collapsed": true
   },
   "outputs": [],
   "source": []
  },
  {
   "cell_type": "code",
   "execution_count": null,
   "metadata": {
    "collapsed": true
   },
   "outputs": [],
   "source": []
  },
  {
   "cell_type": "code",
   "execution_count": null,
   "metadata": {
    "collapsed": true
   },
   "outputs": [],
   "source": []
  },
  {
   "cell_type": "code",
   "execution_count": null,
   "metadata": {
    "collapsed": true
   },
   "outputs": [],
   "source": []
  },
  {
   "cell_type": "code",
   "execution_count": null,
   "metadata": {
    "collapsed": true
   },
   "outputs": [],
   "source": []
  },
  {
   "cell_type": "code",
   "execution_count": null,
   "metadata": {
    "collapsed": true
   },
   "outputs": [],
   "source": []
  }
 ],
 "metadata": {
  "celltoolbar": "Slideshow",
  "kernelspec": {
   "display_name": "Python 2",
   "language": "python",
   "name": "python2"
  },
  "language_info": {
   "codemirror_mode": {
    "name": "ipython",
    "version": 2
   },
   "file_extension": ".py",
   "mimetype": "text/x-python",
   "name": "python",
   "nbconvert_exporter": "python",
   "pygments_lexer": "ipython2",
   "version": "2.7.11"
  }
 },
 "nbformat": 4,
 "nbformat_minor": 0
}
