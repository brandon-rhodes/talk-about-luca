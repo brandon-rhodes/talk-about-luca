{
 "cells": [
  {
   "cell_type": "markdown",
   "metadata": {
    "slideshow": {
     "slide_type": "slide"
    }
   },
   "source": [
    "# Pivoting from an interpreter to a compiler to Pandas vectors\n",
    "\n",
    "Clepy • Cleveland, Ohio • May 2016"
   ]
  },
  {
   "cell_type": "code",
   "execution_count": null,
   "metadata": {
    "collapsed": false,
    "slideshow": {
     "slide_type": "slide"
    }
   },
   "outputs": [],
   "source": [
    "# from __future__ import division\n",
    "%pylab inline\n",
    "%load_ext autoreload\n",
    "%autoreload 2\n",
    "import numpy as np\n",
    "import pandas as pd\n",
    "import seaborn as sb\n",
    "pd.options.display.max_colwidth = 128\n",
    "pylab.rcParams['figure.figsize'] = 12, 7\n",
    "\n",
    "from re import search"
   ]
  },
  {
   "cell_type": "code",
   "execution_count": null,
   "metadata": {
    "collapsed": true,
    "slideshow": {
     "slide_type": "slide"
    }
   },
   "outputs": [],
   "source": [
    "from functools import partial\n",
    "\n",
    "def test(categorizer, **kw):\n",
    "    categorize = partial(categorizer, **kw)\n",
    "    assert categorize('Delta Airlines') == 'Airfare'\n",
    "    assert categorize('Delta Faucet') == 'Plumbing'\n",
    "    assert categorize('Comfort Inn') == 'Lodging'\n",
    "    assert categorize('Drake Hotel') == 'Lodging'\n",
    "    assert categorize('Sushi Avenue') == 'Restaurant'\n",
    "    print 'Tests passed'"
   ]
  },
  {
   "cell_type": "code",
   "execution_count": null,
   "metadata": {
    "collapsed": false,
    "slideshow": {
     "slide_type": "slide"
    }
   },
   "outputs": [],
   "source": [
    "def categorize(text):\n",
    "    if 'Delta' in text:\n",
    "        if 'Faucet' in text:\n",
    "            return 'Plumbing'\n",
    "        return 'Airfare'\n",
    "    if 'Hotel' in text or 'Inn' in text:\n",
    "        return 'Lodging'\n",
    "    return 'Restaurant'\n",
    "\n",
    "print categorize('Comfort Inn')\n",
    "print categorize('Sushi Avenue')\n",
    "test(categorize)"
   ]
  },
  {
   "cell_type": "code",
   "execution_count": null,
   "metadata": {
    "collapsed": true,
    "slideshow": {
     "slide_type": "slide"
    }
   },
   "outputs": [],
   "source": [
    "rule_text = \"\"\"\\\n",
    "- /Delta/:\n",
    "  - /Faucet/:\n",
    "    - Plumbing\n",
    "  - Airfare\n",
    "- Lodging:\n",
    "  - /Hotel/\n",
    "  - /Inn/\n",
    "- //:\n",
    "  - Restaurant\n",
    "\"\"\""
   ]
  },
  {
   "cell_type": "code",
   "execution_count": null,
   "metadata": {
    "collapsed": false,
    "slideshow": {
     "slide_type": "slide"
    }
   },
   "outputs": [],
   "source": [
    "import yaml\n",
    "rules = yaml.load(rule_text)\n",
    "rules"
   ]
  },
  {
   "cell_type": "markdown",
   "metadata": {
    "slideshow": {
     "slide_type": "slide"
    }
   },
   "source": [
    "# Iteration 1: Interpreter"
   ]
  },
  {
   "cell_type": "markdown",
   "metadata": {
    "slideshow": {
     "slide_type": "slide"
    }
   },
   "source": [
    "```\n",
    "- /Delta/:\n",
    "  - /Faucet/:\n",
    "    - Plumbing\n",
    "  - Airfare\n",
    "- Lodging:\n",
    "  - /Hotel/\n",
    "  - /Inn/\n",
    "- //:\n",
    "  - Restaurant\n",
    "```"
   ]
  },
  {
   "cell_type": "code",
   "execution_count": null,
   "metadata": {
    "collapsed": false,
    "slideshow": {
     "slide_type": "slide"
    }
   },
   "outputs": [],
   "source": [
    "def categorize1(text, rules, category=None):\n",
    "    for rule in rules:\n",
    "        subrules = None\n",
    "        if isinstance(rule, dict):\n",
    "            rule, subrules = next(rule.iteritems())\n",
    "        if rule.startswith('/'):\n",
    "            if not search(rule[1:-1], text):\n",
    "                continue\n",
    "        else:\n",
    "            category = rule\n",
    "        if subrules:\n",
    "            category = categorize1(text, subrules, category)\n",
    "        if category is not None:\n",
    "            return category\n",
    "\n",
    "print categorize1('Comfort Inn', rules)\n",
    "test(categorize1, rules=rules)"
   ]
  },
  {
   "cell_type": "markdown",
   "metadata": {
    "slideshow": {
     "slide_type": "slide"
    }
   },
   "source": [
    "# Iteration 2: Compiler"
   ]
  },
  {
   "cell_type": "code",
   "execution_count": null,
   "metadata": {
    "collapsed": false,
    "slideshow": {
     "slide_type": "slide"
    }
   },
   "outputs": [],
   "source": [
    "# https://docs.python.org/2/library/ast.html#abstract-grammar\n",
    "\n",
    "import ast\n",
    "\n",
    "tree = ast.parse('2 + 3 * 4')\n",
    "tree"
   ]
  },
  {
   "cell_type": "code",
   "execution_count": null,
   "metadata": {
    "collapsed": false,
    "slideshow": {
     "slide_type": "slide"
    }
   },
   "outputs": [],
   "source": [
    "print ast.dump(tree)"
   ]
  },
  {
   "cell_type": "code",
   "execution_count": null,
   "metadata": {
    "collapsed": false,
    "slideshow": {
     "slide_type": "slide"
    }
   },
   "outputs": [],
   "source": [
    "import astunparse\n",
    "print astunparse.dump(tree)"
   ]
  },
  {
   "cell_type": "code",
   "execution_count": null,
   "metadata": {
    "collapsed": false,
    "slideshow": {
     "slide_type": "slide"
    }
   },
   "outputs": [],
   "source": [
    "import astunparse\n",
    "print astunparse.dump(ast.parse(\"\"\"\n",
    "    \n",
    "    \"\"\"))"
   ]
  },
  {
   "cell_type": "code",
   "execution_count": null,
   "metadata": {
    "collapsed": false,
    "slideshow": {
     "slide_type": "slide"
    }
   },
   "outputs": [],
   "source": [
    "from ast import *\n",
    "\n",
    "tree = Expression(Num(n=42))\n",
    "fixed = fix_missing_locations(tree)\n",
    "code = compile(tree, '<luca>', 'eval')\n",
    "eval(code)"
   ]
  },
  {
   "cell_type": "code",
   "execution_count": null,
   "metadata": {
    "collapsed": false,
    "slideshow": {
     "slide_type": "slide"
    }
   },
   "outputs": [],
   "source": [
    "tree = Expression(BinOp(Num(n=42), Add(), Name(id='n', ctx=Load())))\n",
    "fixed = fix_missing_locations(tree)\n",
    "code = compile(tree, '<luca>', 'eval')\n",
    "eval(code, {}, {'n': 1})"
   ]
  },
  {
   "cell_type": "code",
   "execution_count": null,
   "metadata": {
    "collapsed": false,
    "slideshow": {
     "slide_type": "slide"
    }
   },
   "outputs": [],
   "source": [
    "tree = Interactive([\n",
    "    Assign([Name(id='m', ctx=Store())], Num(n=2)),\n",
    "    Expr(BinOp(Num(n=42), Add(), Name(id='m', ctx=Load())))\n",
    "    ])\n",
    "fixed = fix_missing_locations(tree)\n",
    "code = compile(tree, '<luca>', 'single')\n",
    "eval(code, {}, {'n': 1})"
   ]
  },
  {
   "cell_type": "code",
   "execution_count": null,
   "metadata": {
    "collapsed": false,
    "slideshow": {
     "slide_type": "slide"
    }
   },
   "outputs": [],
   "source": [
    "from dis import dis\n",
    "dis(code)"
   ]
  },
  {
   "cell_type": "markdown",
   "metadata": {
    "slideshow": {
     "slide_type": "slide"
    }
   },
   "source": [
    "```\n",
    "- /Delta/:\n",
    "  - /Faucet/:\n",
    "    - Plumbing\n",
    "  - Airfare\n",
    "- Lodging:\n",
    "  - /Hotel/\n",
    "  - /Inn/\n",
    "- //:\n",
    "  - Restaurant\n",
    "```"
   ]
  },
  {
   "cell_type": "code",
   "execution_count": null,
   "metadata": {
    "collapsed": true,
    "slideshow": {
     "slide_type": "slide"
    }
   },
   "outputs": [],
   "source": [
    "def compile_test(rule):\n",
    "    pattern = Str(rule[1:-1])\n",
    "    text = Name(id='text', ctx=Load())\n",
    "    return Compare(pattern, [In()], [text])"
   ]
  },
  {
   "cell_type": "code",
   "execution_count": null,
   "metadata": {
    "collapsed": true,
    "slideshow": {
     "slide_type": "slide"
    }
   },
   "outputs": [],
   "source": [
    "def compile_rules(rules, category=''):\n",
    "    return BoolOp(Or(), [compile_rule(r, category) for r in rules])"
   ]
  },
  {
   "cell_type": "code",
   "execution_count": null,
   "metadata": {
    "collapsed": false,
    "slideshow": {
     "slide_type": "slide"
    }
   },
   "outputs": [],
   "source": [
    "def compile_rule(rule, category):\n",
    "    if isinstance(rule, dict):\n",
    "        rule, subrules = next(rule.iteritems())\n",
    "        if rule.startswith('/'):\n",
    "            return BoolOp(And(), [compile_test(rule), compile_rules(subrules, category)])\n",
    "        return compile_rules(subrules, rule)\n",
    "    elif rule.startswith('/'):\n",
    "        return BoolOp(And(), [compile_test(rule), Str(category)])\n",
    "    return Str(rule)"
   ]
  },
  {
   "cell_type": "code",
   "execution_count": null,
   "metadata": {
    "collapsed": false,
    "slideshow": {
     "slide_type": "slide"
    }
   },
   "outputs": [],
   "source": [
    "tree = compile_rules(rules)\n",
    "fixed = fix_missing_locations(tree)\n",
    "code = compile(Expression(tree), '<luca>', 'eval')\n",
    "categorize2 = lambda text: eval(code, None, {'text': text})\n",
    "\n",
    "print categorize2('Comfort Inn')\n",
    "print categorize2('Delta Airlines')\n",
    "test(categorize2)"
   ]
  },
  {
   "cell_type": "code",
   "execution_count": null,
   "metadata": {
    "collapsed": false,
    "slideshow": {
     "slide_type": "slide"
    }
   },
   "outputs": [],
   "source": [
    "dis(code)"
   ]
  },
  {
   "cell_type": "code",
   "execution_count": null,
   "metadata": {
    "collapsed": false,
    "slideshow": {
     "slide_type": "slide"
    }
   },
   "outputs": [],
   "source": [
    "%timeit categorize1('Sushi Avenue', rules)\n",
    "%timeit categorize2('Sushi Avenue')"
   ]
  },
  {
   "cell_type": "markdown",
   "metadata": {
    "slideshow": {
     "slide_type": "slide"
    }
   },
   "source": [
    "# Iteration 3: Pandas"
   ]
  },
  {
   "cell_type": "code",
   "execution_count": null,
   "metadata": {
    "collapsed": false,
    "slideshow": {
     "slide_type": "slide"
    }
   },
   "outputs": [],
   "source": [
    "# NumPy\n",
    "\n",
    "x = arange(8)\n",
    "print x\n",
    "print x + 1\n",
    "print x * 10\n",
    "print x * x"
   ]
  },
  {
   "cell_type": "code",
   "execution_count": null,
   "metadata": {
    "collapsed": false,
    "slideshow": {
     "slide_type": "slide"
    }
   },
   "outputs": [],
   "source": [
    "print sin(x)"
   ]
  },
  {
   "cell_type": "code",
   "execution_count": null,
   "metadata": {
    "collapsed": false,
    "slideshow": {
     "slide_type": "slide"
    }
   },
   "outputs": [],
   "source": [
    "#x = linspace(0, 10, 1000)\n",
    "plot(x, sin(x) - x / 2.0)"
   ]
  },
  {
   "cell_type": "code",
   "execution_count": null,
   "metadata": {
    "collapsed": false,
    "slideshow": {
     "slide_type": "slide"
    }
   },
   "outputs": [],
   "source": [
    "# Pandas\n",
    "\n",
    "df = pd.read_csv('transactions.txt', parse_dates=['Date'])\n",
    "df.head()"
   ]
  },
  {
   "cell_type": "code",
   "execution_count": null,
   "metadata": {
    "collapsed": false,
    "slideshow": {
     "slide_type": "slide"
    }
   },
   "outputs": [],
   "source": [
    "-df.Amount > 500"
   ]
  },
  {
   "cell_type": "code",
   "execution_count": null,
   "metadata": {
    "collapsed": false,
    "slideshow": {
     "slide_type": "slide"
    }
   },
   "outputs": [],
   "source": [
    "df.head()"
   ]
  },
  {
   "cell_type": "code",
   "execution_count": null,
   "metadata": {
    "collapsed": false,
    "slideshow": {
     "slide_type": "slide"
    }
   },
   "outputs": [],
   "source": [
    "c = df.assign(Category=None)\n",
    "c.head()"
   ]
  },
  {
   "cell_type": "code",
   "execution_count": null,
   "metadata": {
    "collapsed": false,
    "slideshow": {
     "slide_type": "slide"
    }
   },
   "outputs": [],
   "source": [
    "match = c.Description.str.contains('Delta')\n",
    "c.Category = c.Category[match].fillna('Airfare')\n",
    "c.head()"
   ]
  },
  {
   "cell_type": "code",
   "execution_count": null,
   "metadata": {
    "collapsed": false,
    "slideshow": {
     "slide_type": "slide"
    }
   },
   "outputs": [],
   "source": [
    "mask = c.Description.str.contains('Inn')\n",
    "c.Category.mask(mask, 'Lodging')\n",
    "#c.Category = c.Category[match].fillna('Lodging')\n",
    "#c.head()"
   ]
  },
  {
   "cell_type": "code",
   "execution_count": null,
   "metadata": {
    "collapsed": false,
    "slideshow": {
     "slide_type": "slide"
    }
   },
   "outputs": [],
   "source": [
    "cc = c.Description.copy()\n",
    "cc[:] = None\n",
    "cc.fillna(7)"
   ]
  },
  {
   "cell_type": "code",
   "execution_count": null,
   "metadata": {
    "collapsed": true,
    "slideshow": {
     "slide_type": "slide"
    }
   },
   "outputs": [],
   "source": [
    "def categorize3(descriptions, rules, category=None):\n",
    "    cats = pd.Series(None, index=descriptions.index)\n",
    "    for rule in rules:\n",
    "        cats = cats.fillna(run_rule(descriptions, rule, category))\n",
    "    return cats"
   ]
  },
  {
   "cell_type": "code",
   "execution_count": null,
   "metadata": {
    "collapsed": false,
    "slideshow": {
     "slide_type": "slide"
    }
   },
   "outputs": [],
   "source": [
    "def run_rule(descriptions, rule, category):\n",
    "    if isinstance(rule, dict):\n",
    "        rule, subrules = next(rule.iteritems())\n",
    "        if rule.startswith('/'):\n",
    "            mask = descriptions.str.contains(rule[1:-1], regex=False)\n",
    "            cats = categorize3(descriptions, subrules, category)\n",
    "            return cats.where(mask, None)\n",
    "        else:\n",
    "            return categorize3(descriptions, subrules, rule)\n",
    "    elif rule.startswith('/'):\n",
    "        mask = descriptions.str.contains(rule[1:-1], regex=False)\n",
    "        cats = pd.Series(category, index=descriptions.index)\n",
    "        return cats.where(mask, None)\n",
    "    return rule\n",
    "\n",
    "#print categorize3(df.Description, rules)\n",
    "#test(categorize1, rules=rules)\n",
    "%timeit c3 = categorize3(df.Description, rules)"
   ]
  },
  {
   "cell_type": "code",
   "execution_count": null,
   "metadata": {
    "collapsed": false,
    "slideshow": {
     "slide_type": "slide"
    }
   },
   "outputs": [],
   "source": [
    "c1 = [categorize1(text, rules) for text in df.Description]\n",
    "c2 = [categorize2(text) for text in df.Description]\n",
    "c3 = categorize3(df.Description, rules)\n",
    "print c1 == c2\n",
    "print (c1 == c3).all()"
   ]
  },
  {
   "cell_type": "code",
   "execution_count": null,
   "metadata": {
    "collapsed": false,
    "slideshow": {
     "slide_type": "slide"
    }
   },
   "outputs": [],
   "source": [
    "%time c1 = [categorize1(text, rules) for text in df.Description]\n",
    "%time c2 = [categorize2(text) for text in df.Description]\n",
    "%time c3 = categorize3(df.Description, rules)"
   ]
  },
  {
   "cell_type": "code",
   "execution_count": null,
   "metadata": {
    "collapsed": false,
    "slideshow": {
     "slide_type": "slide"
    }
   },
   "outputs": [],
   "source": [
    "bigdf = pd.concat([df] * 100000).reset_index()"
   ]
  },
  {
   "cell_type": "code",
   "execution_count": null,
   "metadata": {
    "collapsed": false
   },
   "outputs": [],
   "source": [
    "bigdf.shape"
   ]
  },
  {
   "cell_type": "code",
   "execution_count": null,
   "metadata": {
    "collapsed": false,
    "slideshow": {
     "slide_type": "slide"
    }
   },
   "outputs": [],
   "source": [
    "%time [categorize1(text, rules) for text in bigdf.Description]\n",
    "%time [categorize2(text) for text in bigdf.Description]\n",
    "%time categorize3(bigdf.Description, rules)"
   ]
  },
  {
   "cell_type": "markdown",
   "metadata": {
    "collapsed": true,
    "slideshow": {
     "slide_type": "slide"
    }
   },
   "source": [
    "# PyCon!"
   ]
  },
  {
   "cell_type": "markdown",
   "metadata": {
    "slideshow": {
     "slide_type": "slide"
    }
   },
   "source": [
    "# PyCon\n",
    "\n",
    "Portland, Oregon\n",
    "\n",
    "2016 May 28 – June 5"
   ]
  },
  {
   "cell_type": "markdown",
   "metadata": {
    "slideshow": {
     "slide_type": "slide"
    }
   },
   "source": [
    "# PyCon\n",
    "\n",
    "Portland, Oregon\n",
    "\n",
    "2017"
   ]
  },
  {
   "cell_type": "markdown",
   "metadata": {
    "slideshow": {
     "slide_type": "slide"
    }
   },
   "source": [
    "# PyCon\n",
    "\n",
    "2018–2019 — Early May"
   ]
  },
  {
   "cell_type": "markdown",
   "metadata": {
    "slideshow": {
     "slide_type": "slide"
    }
   },
   "source": [
    "# PyCon\n",
    "\n",
    "2018–2019 — Early May\n",
    "\n",
    "**Cleveland, Ohio**"
   ]
  },
  {
   "cell_type": "code",
   "execution_count": null,
   "metadata": {
    "collapsed": true,
    "slideshow": {
     "slide_type": "slide"
    }
   },
   "outputs": [],
   "source": []
  },
  {
   "cell_type": "code",
   "execution_count": null,
   "metadata": {
    "collapsed": true
   },
   "outputs": [],
   "source": []
  },
  {
   "cell_type": "code",
   "execution_count": null,
   "metadata": {
    "collapsed": true
   },
   "outputs": [],
   "source": []
  },
  {
   "cell_type": "code",
   "execution_count": null,
   "metadata": {
    "collapsed": true
   },
   "outputs": [],
   "source": []
  },
  {
   "cell_type": "code",
   "execution_count": null,
   "metadata": {
    "collapsed": true
   },
   "outputs": [],
   "source": []
  },
  {
   "cell_type": "code",
   "execution_count": null,
   "metadata": {
    "collapsed": true
   },
   "outputs": [],
   "source": []
  },
  {
   "cell_type": "code",
   "execution_count": null,
   "metadata": {
    "collapsed": true
   },
   "outputs": [],
   "source": []
  },
  {
   "cell_type": "code",
   "execution_count": null,
   "metadata": {
    "collapsed": true
   },
   "outputs": [],
   "source": []
  },
  {
   "cell_type": "code",
   "execution_count": null,
   "metadata": {
    "collapsed": true
   },
   "outputs": [],
   "source": []
  },
  {
   "cell_type": "code",
   "execution_count": null,
   "metadata": {
    "collapsed": false,
    "slideshow": {
     "slide_type": "slide"
    }
   },
   "outputs": [],
   "source": [
    "rules"
   ]
  },
  {
   "cell_type": "code",
   "execution_count": null,
   "metadata": {
    "collapsed": true
   },
   "outputs": [],
   "source": [
    "rules2 = [\n",
    "    {'/Delta/': [{'/Faucet/': [2.0]}, 1.0]},\n",
    "    {3.0: ['/Hotel/', '/Inn/']},\n",
    "    {'//': [4.0]},\n",
    "]"
   ]
  },
  {
   "cell_type": "code",
   "execution_count": null,
   "metadata": {
    "collapsed": false,
    "slideshow": {
     "slide_type": "slide"
    }
   },
   "outputs": [],
   "source": [
    "nan = float('nan')\n",
    "from time import time\n",
    "\n",
    "def categorize4(descriptions, rules, category=nan):\n",
    "    t0 = time()\n",
    "    cats = pd.Series(nan, index=descriptions.index)\n",
    "    print time() - t0\n",
    "    for rule in rules:\n",
    "        cats = cats.fillna(run_rule4(descriptions, rule, category))\n",
    "    return cats\n",
    "\n",
    "def run_rule4(descriptions, rule, category):\n",
    "    if isinstance(rule, dict):\n",
    "        rule, subrules = next(rule.iteritems())\n",
    "        if isinstance(rule, str) and rule.startswith('/'):\n",
    "            t0 = time()\n",
    "            descriptions.str.find(rule[1:-1])\n",
    "            print 'a1', time() - t0\n",
    "            t0 = time()\n",
    "            mask = descriptions.str.contains(rule[1:-1], regex=False)\n",
    "            print 'a1', time() - t0\n",
    "            cats = categorize4(descriptions, subrules, category)\n",
    "            return cats.where(mask, nan)\n",
    "        else:\n",
    "            return categorize4(descriptions, subrules, rule)\n",
    "    elif isinstance(rule, str) and rule.startswith('/'):\n",
    "        t0 = time()\n",
    "        mask = descriptions.str.contains(rule[1:-1], regex=False)\n",
    "        print 'a2', time() - t0\n",
    "        cats = pd.Series(category, index=descriptions.index)\n",
    "        return cats.where(mask, nan)\n",
    "    return rule\n",
    "\n",
    "#print categorize4(df.Description, rules2)\n",
    "#test(categorize1, rules=rules)"
   ]
  },
  {
   "cell_type": "code",
   "execution_count": null,
   "metadata": {
    "collapsed": false
   },
   "outputs": [],
   "source": [
    "t0 = time()\n",
    "categorize4(bigdf.Description, rules2)\n",
    "print time() - t0"
   ]
  },
  {
   "cell_type": "code",
   "execution_count": null,
   "metadata": {
    "collapsed": false
   },
   "outputs": [],
   "source": [
    "%time categorize4(df.Description, rules2)\n",
    "None"
   ]
  },
  {
   "cell_type": "code",
   "execution_count": null,
   "metadata": {
    "collapsed": false
   },
   "outputs": [],
   "source": [
    "c4 = categorize4(df.Description, rules2)\n",
    "c4"
   ]
  },
  {
   "cell_type": "code",
   "execution_count": null,
   "metadata": {
    "collapsed": false
   },
   "outputs": [],
   "source": [
    "%time [categorize1(text, rules) for text in bigdf.Description]\n",
    "%time [categorize2(text) for text in bigdf.Description]\n",
    "%time categorize3(bigdf.Description, rules)\n",
    "%time categorize4(bigdf.Description, rules2)"
   ]
  },
  {
   "cell_type": "code",
   "execution_count": null,
   "metadata": {
    "collapsed": true
   },
   "outputs": [],
   "source": []
  },
  {
   "cell_type": "code",
   "execution_count": null,
   "metadata": {
    "collapsed": true
   },
   "outputs": [],
   "source": []
  },
  {
   "cell_type": "code",
   "execution_count": null,
   "metadata": {
    "collapsed": true
   },
   "outputs": [],
   "source": []
  },
  {
   "cell_type": "code",
   "execution_count": null,
   "metadata": {
    "collapsed": true
   },
   "outputs": [],
   "source": []
  },
  {
   "cell_type": "code",
   "execution_count": null,
   "metadata": {
    "collapsed": true
   },
   "outputs": [],
   "source": []
  },
  {
   "cell_type": "code",
   "execution_count": null,
   "metadata": {
    "collapsed": true
   },
   "outputs": [],
   "source": []
  },
  {
   "cell_type": "code",
   "execution_count": null,
   "metadata": {
    "collapsed": true
   },
   "outputs": [],
   "source": []
  },
  {
   "cell_type": "code",
   "execution_count": null,
   "metadata": {
    "collapsed": true
   },
   "outputs": [],
   "source": []
  },
  {
   "cell_type": "code",
   "execution_count": null,
   "metadata": {
    "collapsed": true
   },
   "outputs": [],
   "source": []
  },
  {
   "cell_type": "code",
   "execution_count": null,
   "metadata": {
    "collapsed": false
   },
   "outputs": [],
   "source": [
    "pd.__version__"
   ]
  },
  {
   "cell_type": "code",
   "execution_count": null,
   "metadata": {
    "collapsed": true
   },
   "outputs": [],
   "source": []
  },
  {
   "cell_type": "code",
   "execution_count": null,
   "metadata": {
    "collapsed": true
   },
   "outputs": [],
   "source": []
  },
  {
   "cell_type": "code",
   "execution_count": null,
   "metadata": {
    "collapsed": true
   },
   "outputs": [],
   "source": []
  },
  {
   "cell_type": "code",
   "execution_count": null,
   "metadata": {
    "collapsed": true
   },
   "outputs": [],
   "source": []
  },
  {
   "cell_type": "code",
   "execution_count": null,
   "metadata": {
    "collapsed": true
   },
   "outputs": [],
   "source": []
  }
 ],
 "metadata": {
  "celltoolbar": "Slideshow",
  "kernelspec": {
   "display_name": "Python 2",
   "language": "python",
   "name": "python2"
  },
  "language_info": {
   "codemirror_mode": {
    "name": "ipython",
    "version": 2
   },
   "file_extension": ".py",
   "mimetype": "text/x-python",
   "name": "python",
   "nbconvert_exporter": "python",
   "pygments_lexer": "ipython2",
   "version": "2.7.11"
  }
 },
 "nbformat": 4,
 "nbformat_minor": 0
}
