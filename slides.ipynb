{
 "cells": [
  {
   "cell_type": "code",
   "execution_count": null,
   "metadata": {
    "collapsed": false
   },
   "outputs": [],
   "source": [
    "# from __future__ import division\n",
    "%pylab inline\n",
    "%load_ext autoreload\n",
    "%autoreload 2\n",
    "import numpy as np\n",
    "import pandas as pd\n",
    "import seaborn as sb\n",
    "pd.options.display.max_colwidth = 128\n",
    "pylab.rcParams['figure.figsize'] = 12, 7"
   ]
  },
  {
   "cell_type": "code",
   "execution_count": null,
   "metadata": {
    "collapsed": false
   },
   "outputs": [],
   "source": [
    "from re import search"
   ]
  },
  {
   "cell_type": "code",
   "execution_count": null,
   "metadata": {
    "collapsed": false,
    "slideshow": {
     "slide_type": "slide"
    }
   },
   "outputs": [],
   "source": [
    "%config "
   ]
  },
  {
   "cell_type": "code",
   "execution_count": null,
   "metadata": {
    "collapsed": false,
    "slideshow": {
     "slide_type": "slide"
    }
   },
   "outputs": [],
   "source": [
    "import IPython.core.formatters"
   ]
  },
  {
   "cell_type": "code",
   "execution_count": null,
   "metadata": {
    "collapsed": false,
    "slideshow": {
     "slide_type": "slide"
    }
   },
   "outputs": [],
   "source": [
    "IPython.core.formatters"
   ]
  },
  {
   "cell_type": "code",
   "execution_count": null,
   "metadata": {
    "collapsed": false,
    "slideshow": {
     "slide_type": "slide"
    }
   },
   "outputs": [],
   "source": [
    "%config DisplayFormatter"
   ]
  },
  {
   "cell_type": "code",
   "execution_count": null,
   "metadata": {
    "collapsed": true,
    "slideshow": {
     "slide_type": "slide"
    }
   },
   "outputs": [],
   "source": [
    "#%config PlainTextFormatter.pprint = False"
   ]
  },
  {
   "cell_type": "code",
   "execution_count": null,
   "metadata": {
    "collapsed": true
   },
   "outputs": [],
   "source": [
    "from functools import partial\n",
    "\n",
    "def test(categorizer, **kw):\n",
    "    categorize = partial(categorizer, **kw)\n",
    "    assert categorize('Delta Airlines') == 'Airfare'\n",
    "    assert categorize('Delta Faucet') == 'Plumbing'\n",
    "    assert categorize('Comfort Inn') == 'Lodging'\n",
    "    assert categorize('Drake Hotel') == 'Lodging'\n",
    "    assert categorize('Sushi Avenue') == 'Restaurant'\n",
    "    print 'Tests passed'"
   ]
  },
  {
   "cell_type": "code",
   "execution_count": null,
   "metadata": {
    "collapsed": false
   },
   "outputs": [],
   "source": [
    "def categorize(text):\n",
    "    if search('Delta', text):\n",
    "        return 'Airfare'\n",
    "    if search('Hotel', text):\n",
    "        return 'Lodging'\n",
    "    if search('Inn', text):\n",
    "        return 'Lodging'\n",
    "    if search('.', text):\n",
    "        return 'Restaurant'\n",
    "    return None\n",
    "\n",
    "print categorize('Comfort Inn')\n",
    "print categorize('Sushi Avenue')"
   ]
  },
  {
   "cell_type": "code",
   "execution_count": null,
   "metadata": {
    "collapsed": false,
    "slideshow": {
     "slide_type": "slide"
    }
   },
   "outputs": [],
   "source": [
    "import yaml"
   ]
  },
  {
   "cell_type": "code",
   "execution_count": null,
   "metadata": {
    "collapsed": true,
    "slideshow": {
     "slide_type": "slide"
    }
   },
   "outputs": [],
   "source": [
    "rule_text = \"\"\"\\\n",
    "- /Delta/:\n",
    "  - /Faucet/:\n",
    "    - Plumbing\n",
    "  - Airfare\n",
    "- Lodging:\n",
    "  - /Hotel/\n",
    "  - /Inn/\n",
    "- //:\n",
    "  - Restaurant\n",
    "\"\"\""
   ]
  },
  {
   "cell_type": "code",
   "execution_count": null,
   "metadata": {
    "collapsed": false,
    "slideshow": {
     "slide_type": "slide"
    }
   },
   "outputs": [],
   "source": [
    "rules = yaml.load(rule_text)\n",
    "rules"
   ]
  },
  {
   "cell_type": "code",
   "execution_count": null,
   "metadata": {
    "collapsed": false
   },
   "outputs": [],
   "source": [
    "def categorize(text):\n",
    "    if search('Delta', text):\n",
    "        return 'Airfare'\n",
    "    if search('Hotel', text):\n",
    "        return 'Lodging'\n",
    "    if search('Inn', text):\n",
    "        return 'Lodging'\n",
    "    if search('.', text):\n",
    "        return 'Restaurant'\n",
    "    return 'Unknown'\n",
    "\n",
    "print categorize('Comfort Inn')\n",
    "print categorize('Sushi Avenue')"
   ]
  },
  {
   "cell_type": "markdown",
   "metadata": {
    "slideshow": {
     "slide_type": "slide"
    }
   },
   "source": [
    "# Iteration 1: Interpreter"
   ]
  },
  {
   "cell_type": "markdown",
   "metadata": {},
   "source": [
    "```\n",
    "- /Delta/:\n",
    "  - /Faucet/:\n",
    "    - Plumbing\n",
    "  - Airfare\n",
    "- Lodging:\n",
    "  - /Hotel/\n",
    "  - /Inn/\n",
    "- //:\n",
    "  - Restaurant\n",
    "```"
   ]
  },
  {
   "cell_type": "code",
   "execution_count": null,
   "metadata": {
    "collapsed": false,
    "slideshow": {
     "slide_type": "slide"
    }
   },
   "outputs": [],
   "source": [
    "def categorize1(text, rules, category=None):\n",
    "    for rule in rules:\n",
    "        subrules = None\n",
    "        if isinstance(rule, dict):\n",
    "            rule, subrules = next(rule.iteritems())\n",
    "        if rule.startswith('/'):\n",
    "            if not search(rule[1:-1], text):\n",
    "                continue\n",
    "        else:\n",
    "            category = rule\n",
    "        if subrules:\n",
    "            category = categorize1(text, subrules, category)\n",
    "        if category is not None:\n",
    "            return category\n",
    "\n",
    "print categorize1('Comfort Inn', rules)\n",
    "test(categorize1, rules=rules)"
   ]
  },
  {
   "cell_type": "markdown",
   "metadata": {
    "slideshow": {
     "slide_type": "slide"
    }
   },
   "source": [
    "# Iteration 2: Compiler"
   ]
  },
  {
   "cell_type": "code",
   "execution_count": null,
   "metadata": {
    "collapsed": false,
    "slideshow": {
     "slide_type": "slide"
    }
   },
   "outputs": [],
   "source": [
    "import ast\n",
    "\n",
    "tree = ast.parse('2 + 3 * 4')\n",
    "tree"
   ]
  },
  {
   "cell_type": "code",
   "execution_count": null,
   "metadata": {
    "collapsed": false,
    "slideshow": {
     "slide_type": "slide"
    }
   },
   "outputs": [],
   "source": [
    "# 2 + 3 * 4\n",
    "# https://docs.python.org/2/library/ast.html#abstract-grammar\n",
    "\n",
    "tree.body[0]"
   ]
  },
  {
   "cell_type": "code",
   "execution_count": null,
   "metadata": {
    "collapsed": false,
    "slideshow": {
     "slide_type": "slide"
    }
   },
   "outputs": [],
   "source": [
    "print ast.dump(tree)"
   ]
  },
  {
   "cell_type": "code",
   "execution_count": null,
   "metadata": {
    "collapsed": false,
    "slideshow": {
     "slide_type": "slide"
    }
   },
   "outputs": [],
   "source": [
    "import astunparse\n",
    "print astunparse.dump(tree)"
   ]
  },
  {
   "cell_type": "code",
   "execution_count": null,
   "metadata": {
    "collapsed": false,
    "slideshow": {
     "slide_type": "slide"
    }
   },
   "outputs": [],
   "source": [
    "import astunparse\n",
    "print astunparse.dump(ast.parse(\"\"\"\n",
    "    \n",
    "    \"\"\"))"
   ]
  },
  {
   "cell_type": "code",
   "execution_count": null,
   "metadata": {
    "collapsed": false,
    "slideshow": {
     "slide_type": "slide"
    }
   },
   "outputs": [],
   "source": [
    "import astunparse\n",
    "print astunparse.dump(ast.parse(\"\"\"\n",
    "if content == 1:\n",
    "    return 'foo'\n",
    "\"\"\"))"
   ]
  },
  {
   "cell_type": "code",
   "execution_count": null,
   "metadata": {
    "collapsed": false
   },
   "outputs": [],
   "source": [
    "from ast import (AST, If, Name, Return, Str, Param, FunctionDef, Interactive,\n",
    "                 arguments, fix_missing_locations, parse, Num, Expression, Add, BinOp, Mult, Pow, Load, Expr,\n",
    "                Module, Assign)\n",
    "from ast import *\n",
    "\n",
    "\n",
    "tree = Expression(Num(n=42))\n",
    "fixed = fix_missing_locations(tree)\n",
    "code = compile(tree, '<luca>', 'eval')\n",
    "eval(code)"
   ]
  },
  {
   "cell_type": "code",
   "execution_count": null,
   "metadata": {
    "collapsed": false
   },
   "outputs": [],
   "source": [
    "tree = Expression(BinOp(Num(n=42), Add(), Name(id='n', ctx=Load())))\n",
    "fixed = fix_missing_locations(tree)\n",
    "code = compile(tree, '<luca>', 'eval')\n",
    "eval(code, {}, {'n': 1})"
   ]
  },
  {
   "cell_type": "code",
   "execution_count": null,
   "metadata": {
    "collapsed": false
   },
   "outputs": [],
   "source": [
    "tree = Interactive([\n",
    "    Assign([Name(id='m', ctx=Store())], Num(n=2)),\n",
    "    Expr(BinOp(Num(n=42), Add(), Name(id='m', ctx=Load())))\n",
    "    ])\n",
    "fixed = fix_missing_locations(tree)\n",
    "code = compile(tree, '<luca>', 'single')\n",
    "eval(code, {}, {'n': 1})"
   ]
  },
  {
   "cell_type": "code",
   "execution_count": null,
   "metadata": {
    "collapsed": false
   },
   "outputs": [],
   "source": [
    "from dis import dis\n",
    "dis(code)"
   ]
  },
  {
   "cell_type": "code",
   "execution_count": null,
   "metadata": {
    "collapsed": false
   },
   "outputs": [],
   "source": []
  },
  {
   "cell_type": "markdown",
   "metadata": {},
   "source": [
    "```\n",
    "- /Delta/:\n",
    "  - /Faucet/:\n",
    "    - Plumbing\n",
    "  - Airfare\n",
    "- Lodging:\n",
    "  - /Hotel/\n",
    "  - /Inn/\n",
    "- //:\n",
    "  - Restaurant\n",
    "```"
   ]
  },
  {
   "cell_type": "code",
   "execution_count": null,
   "metadata": {
    "collapsed": true
   },
   "outputs": [],
   "source": [
    "def compile_test(rule):\n",
    "    if rule.startswith('/'):\n",
    "        pattern = Str(rule[1:-1])\n",
    "        text = Name(id='text', ctx=Load())\n",
    "        return Compare(pattern, [In()], [text])\n",
    "    else:\n",
    "        return Str(rule)"
   ]
  },
  {
   "cell_type": "code",
   "execution_count": null,
   "metadata": {
    "collapsed": false
   },
   "outputs": [],
   "source": [
    "def compile_rules(rules, category=''):\n",
    "    return BoolOp(Or(), [compile_rule(r, category) for r in rules])\n",
    "\n",
    "def compile_rule(rule, category):\n",
    "    if isinstance(rule, dict):\n",
    "        rule, subrules = next(rule.iteritems())\n",
    "        if rule.startswith('/'):\n",
    "            return BoolOp(And(), [compile_test(rule), compile_rules(subrules, category)])\n",
    "        return compile_rules(subrules, rule)\n",
    "    elif rule.startswith('/'):\n",
    "        return BoolOp(And(), [compile_test(rule), Str(category)])\n",
    "    return Str(rule)"
   ]
  },
  {
   "cell_type": "code",
   "execution_count": null,
   "metadata": {
    "collapsed": false
   },
   "outputs": [],
   "source": [
    "tree = compile_rules(rules)\n",
    "fixed = fix_missing_locations(tree)\n",
    "code = compile(Expression(tree), '<luca>', 'eval')\n",
    "categorize2 = lambda text: eval(code, None, {'text': text})\n",
    "\n",
    "print categorize2('Comfort Inn')\n",
    "print categorize2('Delta Airlines')\n",
    "test(categorize2)"
   ]
  },
  {
   "cell_type": "code",
   "execution_count": null,
   "metadata": {
    "collapsed": false
   },
   "outputs": [],
   "source": [
    "dis(code)"
   ]
  },
  {
   "cell_type": "code",
   "execution_count": null,
   "metadata": {
    "collapsed": false
   },
   "outputs": [],
   "source": [
    "%timeit categorize1('Sushi Avenue', rules)\n",
    "%timeit categorize2('Sushi Avenue')"
   ]
  },
  {
   "cell_type": "markdown",
   "metadata": {},
   "source": [
    "# Iteration 3: Pandas"
   ]
  },
  {
   "cell_type": "code",
   "execution_count": null,
   "metadata": {
    "collapsed": false
   },
   "outputs": [],
   "source": [
    "# NumPy\n",
    "\n",
    "x = arange(8)\n",
    "print x\n",
    "print x + 1\n",
    "print x * 10\n",
    "print x * x"
   ]
  },
  {
   "cell_type": "code",
   "execution_count": null,
   "metadata": {
    "collapsed": false
   },
   "outputs": [],
   "source": [
    "print sin(x)"
   ]
  },
  {
   "cell_type": "code",
   "execution_count": null,
   "metadata": {
    "collapsed": false
   },
   "outputs": [],
   "source": [
    "#x = linspace(0, 10, 1000)\n",
    "plot(x, sin(x) - x / 2.0)"
   ]
  },
  {
   "cell_type": "code",
   "execution_count": null,
   "metadata": {
    "collapsed": false
   },
   "outputs": [],
   "source": [
    "# Pandas\n",
    "\n",
    "df = pd.read_csv('transactions.txt', parse_dates=['Date'])\n",
    "df.head()"
   ]
  },
  {
   "cell_type": "code",
   "execution_count": null,
   "metadata": {
    "collapsed": false
   },
   "outputs": [],
   "source": [
    "-df.Amount > 500"
   ]
  },
  {
   "cell_type": "code",
   "execution_count": null,
   "metadata": {
    "collapsed": false
   },
   "outputs": [],
   "source": [
    "df.head()"
   ]
  },
  {
   "cell_type": "code",
   "execution_count": null,
   "metadata": {
    "collapsed": false
   },
   "outputs": [],
   "source": [
    "c = df.assign(Category=None)\n",
    "c.head()"
   ]
  },
  {
   "cell_type": "code",
   "execution_count": null,
   "metadata": {
    "collapsed": false
   },
   "outputs": [],
   "source": [
    "match = c.Description.str.contains('Delta')\n",
    "c.Category = c.Category[match].fillna('Airfare')\n",
    "c.head()"
   ]
  },
  {
   "cell_type": "code",
   "execution_count": null,
   "metadata": {
    "collapsed": false
   },
   "outputs": [],
   "source": [
    "mask = c.Description.str.contains('Inn')\n",
    "c.Category.mask(mask, 'Lodging')\n",
    "#c.Category = c.Category[match].fillna('Lodging')\n",
    "#c.head()"
   ]
  },
  {
   "cell_type": "code",
   "execution_count": null,
   "metadata": {
    "collapsed": false
   },
   "outputs": [],
   "source": [
    "cc = c.Description.copy()\n",
    "cc[:] = None\n",
    "cc.fillna(7)"
   ]
  },
  {
   "cell_type": "code",
   "execution_count": null,
   "metadata": {
    "collapsed": true
   },
   "outputs": [],
   "source": []
  },
  {
   "cell_type": "code",
   "execution_count": null,
   "metadata": {
    "collapsed": true
   },
   "outputs": [],
   "source": []
  },
  {
   "cell_type": "code",
   "execution_count": null,
   "metadata": {
    "collapsed": true
   },
   "outputs": [],
   "source": []
  },
  {
   "cell_type": "code",
   "execution_count": 505,
   "metadata": {
    "collapsed": false
   },
   "outputs": [
    {
     "name": "stdout",
     "output_type": "stream",
     "text": [
      "100 loops, best of 3: 4.74 ms per loop\n"
     ]
    }
   ],
   "source": [
    "def categorize3(descriptions, rules, category=None):\n",
    "    cats = pd.Series(None, index=descriptions.index)\n",
    "    for rule in rules:\n",
    "        cats = cats.fillna(run_rule(descriptions, rule, category))\n",
    "    return cats\n",
    "\n",
    "def run_rule(descriptions, rule, category):\n",
    "    if isinstance(rule, dict):\n",
    "        rule, subrules = next(rule.iteritems())\n",
    "        if rule.startswith('/'):\n",
    "            mask = descriptions.str.contains(rule[1:-1], regex=False)\n",
    "            cats = categorize3(descriptions, subrules, category)\n",
    "            return cats.where(mask, None)\n",
    "        else:\n",
    "            return categorize3(descriptions, subrules, rule)\n",
    "    elif rule.startswith('/'):\n",
    "        mask = descriptions.str.contains(rule[1:-1], regex=False)\n",
    "        cats = pd.Series(category, index=descriptions.index)\n",
    "        return cats.where(mask, None)\n",
    "    return rule\n",
    "\n",
    "#print categorize3(df.Description, rules)\n",
    "#test(categorize1, rules=rules)\n",
    "%timeit c3 = categorize3(df.Description, rules)"
   ]
  },
  {
   "cell_type": "code",
   "execution_count": 462,
   "metadata": {
    "collapsed": false
   },
   "outputs": [],
   "source": [
    "c1 = [categorize1(text, rules) for text in df.Description]\n",
    "c2 = [categorize2(text) for text in df.Description]\n",
    "c3 = categorize3(df.Description, rules)\n",
    "assert c1 == c2\n",
    "assert (c1 == c3).all()"
   ]
  },
  {
   "cell_type": "code",
   "execution_count": 472,
   "metadata": {
    "collapsed": false
   },
   "outputs": [
    {
     "name": "stdout",
     "output_type": "stream",
     "text": [
      "CPU times: user 4 ms, sys: 0 ns, total: 4 ms\n",
      "Wall time: 1.13 ms\n",
      "CPU times: user 0 ns, sys: 0 ns, total: 0 ns\n",
      "Wall time: 195 µs\n",
      "CPU times: user 16 ms, sys: 4 ms, total: 20 ms\n",
      "Wall time: 18.9 ms\n"
     ]
    }
   ],
   "source": [
    "%time c1 = [categorize1(text, rules) for text in df.Description]\n",
    "%time c2 = [categorize2(text) for text in df.Description]\n",
    "%time c3 = categorize3(df.Description, rules)"
   ]
  },
  {
   "cell_type": "code",
   "execution_count": 479,
   "metadata": {
    "collapsed": false
   },
   "outputs": [],
   "source": [
    "bigdf = pd.concat([df] * 100000).reset_index()"
   ]
  },
  {
   "cell_type": "code",
   "execution_count": 488,
   "metadata": {
    "collapsed": false
   },
   "outputs": [
    {
     "data": {
      "text/plain": [
       "(1900000, 5)"
      ]
     },
     "execution_count": 488,
     "metadata": {},
     "output_type": "execute_result"
    }
   ],
   "source": [
    "bigdf.shape"
   ]
  },
  {
   "cell_type": "code",
   "execution_count": 485,
   "metadata": {
    "collapsed": false
   },
   "outputs": [
    {
     "name": "stdout",
     "output_type": "stream",
     "text": [
      "CPU times: user 18.8 s, sys: 104 ms, total: 18.9 s\n",
      "Wall time: 18.7 s\n",
      "CPU times: user 1.36 s, sys: 84 ms, total: 1.45 s\n",
      "Wall time: 1.32 s\n",
      "CPU times: user 7.22 s, sys: 1.09 s, total: 8.31 s\n",
      "Wall time: 8.28 s\n"
     ]
    },
    {
     "data": {
      "text/plain": [
       "0             Airfare\n",
       "1             Airfare\n",
       "2          Restaurant\n",
       "3          Restaurant\n",
       "4             Lodging\n",
       "5          Restaurant\n",
       "6          Restaurant\n",
       "7             Airfare\n",
       "8             Lodging\n",
       "9          Restaurant\n",
       "10         Restaurant\n",
       "11         Restaurant\n",
       "12         Restaurant\n",
       "13            Lodging\n",
       "14         Restaurant\n",
       "15         Restaurant\n",
       "16         Restaurant\n",
       "17         Restaurant\n",
       "18            Lodging\n",
       "19            Airfare\n",
       "20            Airfare\n",
       "21         Restaurant\n",
       "22         Restaurant\n",
       "23            Lodging\n",
       "24         Restaurant\n",
       "25         Restaurant\n",
       "26            Airfare\n",
       "27            Lodging\n",
       "28         Restaurant\n",
       "29         Restaurant\n",
       "              ...    \n",
       "1899970       Lodging\n",
       "1899971    Restaurant\n",
       "1899972    Restaurant\n",
       "1899973    Restaurant\n",
       "1899974    Restaurant\n",
       "1899975       Lodging\n",
       "1899976    Restaurant\n",
       "1899977    Restaurant\n",
       "1899978    Restaurant\n",
       "1899979    Restaurant\n",
       "1899980       Lodging\n",
       "1899981       Airfare\n",
       "1899982       Airfare\n",
       "1899983    Restaurant\n",
       "1899984    Restaurant\n",
       "1899985       Lodging\n",
       "1899986    Restaurant\n",
       "1899987    Restaurant\n",
       "1899988       Airfare\n",
       "1899989       Lodging\n",
       "1899990    Restaurant\n",
       "1899991    Restaurant\n",
       "1899992    Restaurant\n",
       "1899993    Restaurant\n",
       "1899994       Lodging\n",
       "1899995    Restaurant\n",
       "1899996    Restaurant\n",
       "1899997    Restaurant\n",
       "1899998    Restaurant\n",
       "1899999       Lodging\n",
       "dtype: object"
      ]
     },
     "execution_count": 485,
     "metadata": {},
     "output_type": "execute_result"
    }
   ],
   "source": [
    "%time [categorize1(text, rules) for text in bigdf.Description]\n",
    "%time [categorize2(text) for text in bigdf.Description]\n",
    "%time categorize3(bigdf.Description, rules)"
   ]
  },
  {
   "cell_type": "code",
   "execution_count": null,
   "metadata": {
    "collapsed": false
   },
   "outputs": [],
   "source": []
  },
  {
   "cell_type": "code",
   "execution_count": 489,
   "metadata": {
    "collapsed": false,
    "slideshow": {
     "slide_type": "slide"
    }
   },
   "outputs": [
    {
     "data": {
      "text/plain": [
       "[{'/Delta/': [{'/Faucet/': ['Plumbing']}, 'Airfare']},\n",
       " {'Lodging': ['/Hotel/', '/Inn/']},\n",
       " {'//': ['Restaurant']}]"
      ]
     },
     "execution_count": 489,
     "metadata": {},
     "output_type": "execute_result"
    }
   ],
   "source": [
    "rules"
   ]
  },
  {
   "cell_type": "code",
   "execution_count": 490,
   "metadata": {
    "collapsed": true
   },
   "outputs": [],
   "source": [
    "rules2 = [\n",
    "    {'/Delta/': [{'/Faucet/': [2.0]}, 1.0]},\n",
    "    {3.0: ['/Hotel/', '/Inn/']},\n",
    "    {'//': [4.0]},\n",
    "]"
   ]
  },
  {
   "cell_type": "code",
   "execution_count": 501,
   "metadata": {
    "collapsed": false,
    "slideshow": {
     "slide_type": "slide"
    }
   },
   "outputs": [
    {
     "name": "stdout",
     "output_type": "stream",
     "text": [
      "100 loops, best of 3: 4.03 ms per loop\n"
     ]
    }
   ],
   "source": [
    "nan = float('nan')\n",
    "\n",
    "def categorize4(descriptions, rules, category=nan):\n",
    "    cats = pd.Series(nan, index=descriptions.index)\n",
    "    for rule in rules:\n",
    "        cats = cats.fillna(run_rule(descriptions, rule, category))\n",
    "    return cats\n",
    "\n",
    "def run_rule(descriptions, rule, category):\n",
    "    if isinstance(rule, dict):\n",
    "        rule, subrules = next(rule.iteritems())\n",
    "        if isinstance(rule, str) and rule.startswith('/'):\n",
    "            mask = descriptions.str.contains(rule[1:-1])\n",
    "            cats = categorize3(descriptions, subrules, category)\n",
    "            return cats.where(mask, nan)\n",
    "        else:\n",
    "            return categorize3(descriptions, subrules, rule)\n",
    "    elif isinstance(rule, str) and rule.startswith('/'):\n",
    "        mask = descriptions.str.contains(rule[1:-1])\n",
    "        cats = pd.Series(category, index=descriptions.index)\n",
    "        return cats.where(mask, nan)\n",
    "    return rule\n",
    "\n",
    "#print categorize4(df.Description, rules2)\n",
    "#test(categorize1, rules=rules)\n",
    "%timeit categorize4(df.Description, rules2)"
   ]
  },
  {
   "cell_type": "code",
   "execution_count": 496,
   "metadata": {
    "collapsed": false
   },
   "outputs": [
    {
     "data": {
      "text/plain": [
       "0     1.0\n",
       "1     1.0\n",
       "2     4.0\n",
       "3     4.0\n",
       "4     3.0\n",
       "5     4.0\n",
       "6     4.0\n",
       "7     1.0\n",
       "8     3.0\n",
       "9     4.0\n",
       "10    4.0\n",
       "11    4.0\n",
       "12    4.0\n",
       "13    3.0\n",
       "14    4.0\n",
       "15    4.0\n",
       "16    4.0\n",
       "17    4.0\n",
       "18    3.0\n",
       "dtype: float64"
      ]
     },
     "execution_count": 496,
     "metadata": {},
     "output_type": "execute_result"
    }
   ],
   "source": [
    "c4 = categorize4(df.Description, rules2)\n",
    "c4"
   ]
  },
  {
   "cell_type": "code",
   "execution_count": 502,
   "metadata": {
    "collapsed": false
   },
   "outputs": [
    {
     "name": "stdout",
     "output_type": "stream",
     "text": [
      "CPU times: user 17.8 s, sys: 88 ms, total: 17.9 s\n",
      "Wall time: 17.7 s\n",
      "CPU times: user 1.27 s, sys: 28 ms, total: 1.3 s\n",
      "Wall time: 1.26 s\n",
      "CPU times: user 7.17 s, sys: 1.01 s, total: 8.18 s\n",
      "Wall time: 8.17 s\n",
      "CPU times: user 5.73 s, sys: 1.71 s, total: 7.44 s\n",
      "Wall time: 7.39 s\n"
     ]
    },
    {
     "data": {
      "text/plain": [
       "0          1.0\n",
       "1          1.0\n",
       "2          4.0\n",
       "3          4.0\n",
       "4          3.0\n",
       "5          4.0\n",
       "6          4.0\n",
       "7          1.0\n",
       "8          3.0\n",
       "9          4.0\n",
       "10         4.0\n",
       "11         4.0\n",
       "12         4.0\n",
       "13         3.0\n",
       "14         4.0\n",
       "15         4.0\n",
       "16         4.0\n",
       "17         4.0\n",
       "18         3.0\n",
       "19         1.0\n",
       "20         1.0\n",
       "21         4.0\n",
       "22         4.0\n",
       "23         3.0\n",
       "24         4.0\n",
       "25         4.0\n",
       "26         1.0\n",
       "27         3.0\n",
       "28         4.0\n",
       "29         4.0\n",
       "          ... \n",
       "1899970    3.0\n",
       "1899971    4.0\n",
       "1899972    4.0\n",
       "1899973    4.0\n",
       "1899974    4.0\n",
       "1899975    3.0\n",
       "1899976    4.0\n",
       "1899977    4.0\n",
       "1899978    4.0\n",
       "1899979    4.0\n",
       "1899980    3.0\n",
       "1899981    1.0\n",
       "1899982    1.0\n",
       "1899983    4.0\n",
       "1899984    4.0\n",
       "1899985    3.0\n",
       "1899986    4.0\n",
       "1899987    4.0\n",
       "1899988    1.0\n",
       "1899989    3.0\n",
       "1899990    4.0\n",
       "1899991    4.0\n",
       "1899992    4.0\n",
       "1899993    4.0\n",
       "1899994    3.0\n",
       "1899995    4.0\n",
       "1899996    4.0\n",
       "1899997    4.0\n",
       "1899998    4.0\n",
       "1899999    3.0\n",
       "dtype: float64"
      ]
     },
     "execution_count": 502,
     "metadata": {},
     "output_type": "execute_result"
    }
   ],
   "source": [
    "%time [categorize1(text, rules) for text in bigdf.Description]\n",
    "%time [categorize2(text) for text in bigdf.Description]\n",
    "%time categorize3(bigdf.Description, rules)\n",
    "%time categorize4(bigdf.Description, rules2)"
   ]
  },
  {
   "cell_type": "code",
   "execution_count": null,
   "metadata": {
    "collapsed": true
   },
   "outputs": [],
   "source": []
  },
  {
   "cell_type": "code",
   "execution_count": null,
   "metadata": {
    "collapsed": true
   },
   "outputs": [],
   "source": []
  },
  {
   "cell_type": "code",
   "execution_count": null,
   "metadata": {
    "collapsed": true
   },
   "outputs": [],
   "source": []
  },
  {
   "cell_type": "code",
   "execution_count": null,
   "metadata": {
    "collapsed": true
   },
   "outputs": [],
   "source": []
  },
  {
   "cell_type": "code",
   "execution_count": null,
   "metadata": {
    "collapsed": true
   },
   "outputs": [],
   "source": []
  },
  {
   "cell_type": "code",
   "execution_count": null,
   "metadata": {
    "collapsed": true
   },
   "outputs": [],
   "source": []
  },
  {
   "cell_type": "code",
   "execution_count": null,
   "metadata": {
    "collapsed": true
   },
   "outputs": [],
   "source": []
  },
  {
   "cell_type": "code",
   "execution_count": null,
   "metadata": {
    "collapsed": true
   },
   "outputs": [],
   "source": []
  },
  {
   "cell_type": "code",
   "execution_count": null,
   "metadata": {
    "collapsed": true
   },
   "outputs": [],
   "source": []
  },
  {
   "cell_type": "code",
   "execution_count": null,
   "metadata": {
    "collapsed": true
   },
   "outputs": [],
   "source": []
  },
  {
   "cell_type": "code",
   "execution_count": null,
   "metadata": {
    "collapsed": true
   },
   "outputs": [],
   "source": []
  },
  {
   "cell_type": "code",
   "execution_count": null,
   "metadata": {
    "collapsed": true
   },
   "outputs": [],
   "source": []
  },
  {
   "cell_type": "code",
   "execution_count": null,
   "metadata": {
    "collapsed": true
   },
   "outputs": [],
   "source": []
  },
  {
   "cell_type": "code",
   "execution_count": null,
   "metadata": {
    "collapsed": true
   },
   "outputs": [],
   "source": []
  },
  {
   "cell_type": "code",
   "execution_count": null,
   "metadata": {
    "collapsed": true
   },
   "outputs": [],
   "source": []
  }
 ],
 "metadata": {
  "celltoolbar": "Slideshow",
  "kernelspec": {
   "display_name": "Python 2",
   "language": "python",
   "name": "python2"
  },
  "language_info": {
   "codemirror_mode": {
    "name": "ipython",
    "version": 2
   },
   "file_extension": ".py",
   "mimetype": "text/x-python",
   "name": "python",
   "nbconvert_exporter": "python",
   "pygments_lexer": "ipython2",
   "version": "2.7.11"
  }
 },
 "nbformat": 4,
 "nbformat_minor": 0
}
